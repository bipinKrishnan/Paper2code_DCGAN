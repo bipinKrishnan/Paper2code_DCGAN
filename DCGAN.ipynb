{
  "nbformat": 4,
  "nbformat_minor": 0,
  "metadata": {
    "colab": {
      "name": "DCGAN.ipynb",
      "provenance": [],
      "collapsed_sections": [],
      "authorship_tag": "ABX9TyOPGXFCDX7srPA33/rqH/DL",
      "include_colab_link": true
    },
    "kernelspec": {
      "name": "python3",
      "display_name": "Python 3"
    },
    "accelerator": "GPU",
    "widgets": {
      "application/vnd.jupyter.widget-state+json": {
        "46fc39f0eb1444b09db1fcb094c84550": {
          "model_module": "@jupyter-widgets/controls",
          "model_name": "HBoxModel",
          "state": {
            "_view_name": "HBoxView",
            "_dom_classes": [],
            "_model_name": "HBoxModel",
            "_view_module": "@jupyter-widgets/controls",
            "_model_module_version": "1.5.0",
            "_view_count": null,
            "_view_module_version": "1.5.0",
            "box_style": "",
            "layout": "IPY_MODEL_6d0fb2801d204f79bb88000a10196fbd",
            "_model_module": "@jupyter-widgets/controls",
            "children": [
              "IPY_MODEL_122d2bca90bc4aa0a6a8a527e4145b46",
              "IPY_MODEL_d5c899cb2674444881c74059be68e12b"
            ]
          }
        },
        "6d0fb2801d204f79bb88000a10196fbd": {
          "model_module": "@jupyter-widgets/base",
          "model_name": "LayoutModel",
          "state": {
            "_view_name": "LayoutView",
            "grid_template_rows": null,
            "right": null,
            "justify_content": null,
            "_view_module": "@jupyter-widgets/base",
            "overflow": null,
            "_model_module_version": "1.2.0",
            "_view_count": null,
            "flex_flow": null,
            "width": null,
            "min_width": null,
            "border": null,
            "align_items": null,
            "bottom": null,
            "_model_module": "@jupyter-widgets/base",
            "top": null,
            "grid_column": null,
            "overflow_y": null,
            "overflow_x": null,
            "grid_auto_flow": null,
            "grid_area": null,
            "grid_template_columns": null,
            "flex": null,
            "_model_name": "LayoutModel",
            "justify_items": null,
            "grid_row": null,
            "max_height": null,
            "align_content": null,
            "visibility": null,
            "align_self": null,
            "height": null,
            "min_height": null,
            "padding": null,
            "grid_auto_rows": null,
            "grid_gap": null,
            "max_width": null,
            "order": null,
            "_view_module_version": "1.2.0",
            "grid_template_areas": null,
            "object_position": null,
            "object_fit": null,
            "grid_auto_columns": null,
            "margin": null,
            "display": null,
            "left": null
          }
        },
        "122d2bca90bc4aa0a6a8a527e4145b46": {
          "model_module": "@jupyter-widgets/controls",
          "model_name": "FloatProgressModel",
          "state": {
            "_view_name": "ProgressView",
            "style": "IPY_MODEL_8dfce981abb64cf4aeb8c2e20e2b6e9a",
            "_dom_classes": [],
            "description": "100%",
            "_model_name": "FloatProgressModel",
            "bar_style": "success",
            "max": 500,
            "_view_module": "@jupyter-widgets/controls",
            "_model_module_version": "1.5.0",
            "value": 500,
            "_view_count": null,
            "_view_module_version": "1.5.0",
            "orientation": "horizontal",
            "min": 0,
            "description_tooltip": null,
            "_model_module": "@jupyter-widgets/controls",
            "layout": "IPY_MODEL_d4961760406a44c0a0f17d1b10965b34"
          }
        },
        "d5c899cb2674444881c74059be68e12b": {
          "model_module": "@jupyter-widgets/controls",
          "model_name": "HTMLModel",
          "state": {
            "_view_name": "HTMLView",
            "style": "IPY_MODEL_730607bb552549129bad9caf7c389ea4",
            "_dom_classes": [],
            "description": "",
            "_model_name": "HTMLModel",
            "placeholder": "​",
            "_view_module": "@jupyter-widgets/controls",
            "_model_module_version": "1.5.0",
            "value": " 500/500 [02:00&lt;00:00,  4.16it/s]",
            "_view_count": null,
            "_view_module_version": "1.5.0",
            "description_tooltip": null,
            "_model_module": "@jupyter-widgets/controls",
            "layout": "IPY_MODEL_ff7b62df7c8d49ff921cc21ee0f7299c"
          }
        },
        "8dfce981abb64cf4aeb8c2e20e2b6e9a": {
          "model_module": "@jupyter-widgets/controls",
          "model_name": "ProgressStyleModel",
          "state": {
            "_view_name": "StyleView",
            "_model_name": "ProgressStyleModel",
            "description_width": "initial",
            "_view_module": "@jupyter-widgets/base",
            "_model_module_version": "1.5.0",
            "_view_count": null,
            "_view_module_version": "1.2.0",
            "bar_color": null,
            "_model_module": "@jupyter-widgets/controls"
          }
        },
        "d4961760406a44c0a0f17d1b10965b34": {
          "model_module": "@jupyter-widgets/base",
          "model_name": "LayoutModel",
          "state": {
            "_view_name": "LayoutView",
            "grid_template_rows": null,
            "right": null,
            "justify_content": null,
            "_view_module": "@jupyter-widgets/base",
            "overflow": null,
            "_model_module_version": "1.2.0",
            "_view_count": null,
            "flex_flow": null,
            "width": null,
            "min_width": null,
            "border": null,
            "align_items": null,
            "bottom": null,
            "_model_module": "@jupyter-widgets/base",
            "top": null,
            "grid_column": null,
            "overflow_y": null,
            "overflow_x": null,
            "grid_auto_flow": null,
            "grid_area": null,
            "grid_template_columns": null,
            "flex": null,
            "_model_name": "LayoutModel",
            "justify_items": null,
            "grid_row": null,
            "max_height": null,
            "align_content": null,
            "visibility": null,
            "align_self": null,
            "height": null,
            "min_height": null,
            "padding": null,
            "grid_auto_rows": null,
            "grid_gap": null,
            "max_width": null,
            "order": null,
            "_view_module_version": "1.2.0",
            "grid_template_areas": null,
            "object_position": null,
            "object_fit": null,
            "grid_auto_columns": null,
            "margin": null,
            "display": null,
            "left": null
          }
        },
        "730607bb552549129bad9caf7c389ea4": {
          "model_module": "@jupyter-widgets/controls",
          "model_name": "DescriptionStyleModel",
          "state": {
            "_view_name": "StyleView",
            "_model_name": "DescriptionStyleModel",
            "description_width": "",
            "_view_module": "@jupyter-widgets/base",
            "_model_module_version": "1.5.0",
            "_view_count": null,
            "_view_module_version": "1.2.0",
            "_model_module": "@jupyter-widgets/controls"
          }
        },
        "ff7b62df7c8d49ff921cc21ee0f7299c": {
          "model_module": "@jupyter-widgets/base",
          "model_name": "LayoutModel",
          "state": {
            "_view_name": "LayoutView",
            "grid_template_rows": null,
            "right": null,
            "justify_content": null,
            "_view_module": "@jupyter-widgets/base",
            "overflow": null,
            "_model_module_version": "1.2.0",
            "_view_count": null,
            "flex_flow": null,
            "width": null,
            "min_width": null,
            "border": null,
            "align_items": null,
            "bottom": null,
            "_model_module": "@jupyter-widgets/base",
            "top": null,
            "grid_column": null,
            "overflow_y": null,
            "overflow_x": null,
            "grid_auto_flow": null,
            "grid_area": null,
            "grid_template_columns": null,
            "flex": null,
            "_model_name": "LayoutModel",
            "justify_items": null,
            "grid_row": null,
            "max_height": null,
            "align_content": null,
            "visibility": null,
            "align_self": null,
            "height": null,
            "min_height": null,
            "padding": null,
            "grid_auto_rows": null,
            "grid_gap": null,
            "max_width": null,
            "order": null,
            "_view_module_version": "1.2.0",
            "grid_template_areas": null,
            "object_position": null,
            "object_fit": null,
            "grid_auto_columns": null,
            "margin": null,
            "display": null,
            "left": null
          }
        }
      }
    }
  },
  "cells": [
    {
      "cell_type": "markdown",
      "metadata": {
        "id": "view-in-github",
        "colab_type": "text"
      },
      "source": [
        "<a href=\"https://colab.research.google.com/github/bipinKrishnan/Paper2code_DCGAN/blob/master/DCGAN.ipynb\" target=\"_parent\"><img src=\"https://colab.research.google.com/assets/colab-badge.svg\" alt=\"Open In Colab\"/></a>"
      ]
    },
    {
      "cell_type": "code",
      "metadata": {
        "id": "7xlEjz6Kv-gS",
        "colab_type": "code",
        "colab": {}
      },
      "source": [
        "import torch\n",
        "from torch import nn\n",
        "from torchvision.transforms import transforms\n",
        "from torch import optim\n",
        "\n",
        "import numpy as np\n",
        "import matplotlib.pyplot as plt\n",
        "from PIL import Image\n",
        "from tqdm.notebook import tqdm\n",
        "\n",
        "import warnings\n",
        "warnings.filterwarnings(\"ignore\")"
      ],
      "execution_count": 1,
      "outputs": []
    },
    {
      "cell_type": "markdown",
      "metadata": {
        "id": "D0X8LcbCOlnE",
        "colab_type": "text"
      },
      "source": [
        "# Image preprocessing "
      ]
    },
    {
      "cell_type": "code",
      "metadata": {
        "id": "36Vg9oitwBYw",
        "colab_type": "code",
        "colab": {}
      },
      "source": [
        "transform = transforms.Compose([\n",
        "                                transforms.Resize((50, 50)),\n",
        "                                transforms.ToTensor()\n",
        "])\n",
        "\n",
        "img = Image.open('img.jpg')\n",
        "real_img = transform(img)\n",
        "print(real_img.shape)\n",
        "plt.imshow(np.transpose(real_img.numpy(), (1, 2, 0)))"
      ],
      "execution_count": null,
      "outputs": []
    },
    {
      "cell_type": "code",
      "metadata": {
        "id": "buWD65SgwWD_",
        "colab_type": "code",
        "colab": {}
      },
      "source": [
        "torch.manual_seed(42)\n",
        "fake_img = torch.randn(1, 100)\n",
        "fake_img.shape"
      ],
      "execution_count": null,
      "outputs": []
    },
    {
      "cell_type": "markdown",
      "metadata": {
        "id": "M5JZ13bVOsXx",
        "colab_type": "text"
      },
      "source": [
        "# Building the model"
      ]
    },
    {
      "cell_type": "code",
      "metadata": {
        "id": "BLOjyE_Vwycn",
        "colab_type": "code",
        "colab": {}
      },
      "source": [
        "class Discriminator(nn.Module):\n",
        "  def __init__(self):\n",
        "    super().__init__()\n",
        "    self.conv = nn.Sequential(\n",
        "        nn.Conv2d(3, 5, 3),\n",
        "        nn.LeakyReLU(0.02),\n",
        "        nn.Conv2d(5, 6, 3),\n",
        "        nn.BatchNorm2d(6),\n",
        "        nn.LeakyReLU(0.02),\n",
        "        nn.Conv2d(6, 3, 3),\n",
        "        nn.BatchNorm2d(3),\n",
        "        nn.LeakyReLU(0.02)\n",
        "    )\n",
        "\n",
        "    self.fcn = nn.Sequential(\n",
        "        nn.Linear(5808, 1),\n",
        "        nn.Sigmoid()\n",
        "    )\n",
        "\n",
        "  def forward(self, img):\n",
        "    l1 = self.conv(img)\n",
        "    l1 = l1.view(1, -1)\n",
        "    out = self.fcn(l1)\n",
        "\n",
        "    return out"
      ],
      "execution_count": 21,
      "outputs": []
    },
    {
      "cell_type": "code",
      "metadata": {
        "id": "LiNl6WSR0qEj",
        "colab_type": "code",
        "colab": {}
      },
      "source": [
        "class Generator(nn.Module):\n",
        "  def __init__(self):\n",
        "    super().__init__()\n",
        "    self.fcn = nn.Sequential(\n",
        "        nn.Linear(100, 250000)\n",
        "    )\n",
        "    self.conv = nn.Sequential(\n",
        "        nn.Conv2d(100, 512, 3, padding=1),  \n",
        "        nn.BatchNorm2d(512),\n",
        "        nn.ReLU(),\n",
        "        nn.Conv2d(512, 256, 3, padding=1), \n",
        "        nn.BatchNorm2d(256),\n",
        "        nn.ReLU(),\n",
        "        nn.Conv2d(256, 128, 3, padding=1),\n",
        "        nn.BatchNorm2d(128),\n",
        "        nn.ReLU(),\n",
        "        nn.Conv2d(128, 3, 3, padding=1),\n",
        "        nn.Tanh()\n",
        "    )\n",
        "\n",
        "  def forward(self, img):\n",
        "    l1 = self.fcn(img)\n",
        "    l1 = l1.view(-1, 50, 50).unsqueeze(0)\n",
        "    out = self.conv(l1)\n",
        "\n",
        "    return out"
      ],
      "execution_count": 22,
      "outputs": []
    },
    {
      "cell_type": "code",
      "metadata": {
        "id": "rpjIleN-4x_Z",
        "colab_type": "code",
        "colab": {}
      },
      "source": [
        "device = 'cuda:0' if torch.cuda.is_available() else 'cpu'\n",
        "\n",
        "gen = Generator()\n",
        "discr = Discriminator()\n",
        "\n",
        "gen = gen.to(device)\n",
        "discr = discr.to(device)"
      ],
      "execution_count": 23,
      "outputs": []
    },
    {
      "cell_type": "code",
      "metadata": {
        "id": "34a7Sf0_9vvK",
        "colab_type": "code",
        "colab": {}
      },
      "source": [
        "opt_gen = optim.Adam(gen.parameters(), lr=0.001)\n",
        "opt_discr = optim.Adam(discr.parameters(), lr=0.001)\n",
        "\n",
        "criterion = nn.BCELoss()"
      ],
      "execution_count": 24,
      "outputs": []
    },
    {
      "cell_type": "markdown",
      "metadata": {
        "id": "FZ-CmB19Ozni",
        "colab_type": "text"
      },
      "source": [
        "# Training"
      ]
    },
    {
      "cell_type": "code",
      "metadata": {
        "id": "6iKVduIGCgam",
        "colab_type": "code",
        "colab": {
          "base_uri": "https://localhost:8080/",
          "height": 66,
          "referenced_widgets": [
            "46fc39f0eb1444b09db1fcb094c84550",
            "6d0fb2801d204f79bb88000a10196fbd",
            "122d2bca90bc4aa0a6a8a527e4145b46",
            "d5c899cb2674444881c74059be68e12b",
            "8dfce981abb64cf4aeb8c2e20e2b6e9a",
            "d4961760406a44c0a0f17d1b10965b34",
            "730607bb552549129bad9caf7c389ea4",
            "ff7b62df7c8d49ff921cc21ee0f7299c"
          ]
        },
        "outputId": "74419b4a-12fd-44c1-9984-72413052a3f2"
      },
      "source": [
        "epochs = 500\n",
        "gen_e = 4\n",
        "discr_e = 5\n",
        "\n",
        "for epoch in tqdm(range(epochs), total=epochs):\n",
        "  for i in range(discr_e):\n",
        "    opt_discr.zero_grad()\n",
        "\n",
        "    out_d1 = discr(real_img.unsqueeze(0).to(device))\n",
        "    loss_d1 = criterion(out_d1, torch.ones((1, 1)).to(device))\n",
        "    loss_d1.backward()\n",
        "\n",
        "    out_d2 = gen(fake_img.to(device)).detach()\n",
        "    loss_d2 = criterion(discr(out_d2), torch.zeros((1, 1)).to(device))\n",
        "    loss_d2.backward()\n",
        "\n",
        "    opt_discr.step()\n",
        "\n",
        "  for j in range(gen_e):\n",
        "    opt_gen.zero_grad()\n",
        "\n",
        "    out_g = gen(fake_img.to(device))\n",
        "    loss_g = criterion(discr(out_g), torch.ones((1, 1)).to(device))\n",
        "    loss_g.backward()\n",
        "\n",
        "    opt_gen.step()\n",
        "\n",
        "  #print(\"Epoch: {}/{}\\tloss_d: {}\\tloss_g: {}\".format(epoch+1, epochs, (loss_d1.item()+loss_d2.item())/2, loss_g.item()))"
      ],
      "execution_count": 25,
      "outputs": [
        {
          "output_type": "display_data",
          "data": {
            "application/vnd.jupyter.widget-view+json": {
              "model_id": "46fc39f0eb1444b09db1fcb094c84550",
              "version_minor": 0,
              "version_major": 2
            },
            "text/plain": [
              "HBox(children=(FloatProgress(value=0.0, max=500.0), HTML(value='')))"
            ]
          },
          "metadata": {
            "tags": []
          }
        },
        {
          "output_type": "stream",
          "text": [
            "\n"
          ],
          "name": "stdout"
        }
      ]
    },
    {
      "cell_type": "code",
      "metadata": {
        "id": "TEdZFxDQGnKQ",
        "colab_type": "code",
        "colab": {
          "base_uri": "https://localhost:8080/",
          "height": 270
        },
        "outputId": "7dca41ec-ec78-4f16-edae-cd98b6bf62e4"
      },
      "source": [
        "plt.figure(figsize=(8, 8))\n",
        "\n",
        "plt.subplot(1, 2, 1)\n",
        "plt.title(\"Generated Image\")\n",
        "plt.xticks([])\n",
        "plt.yticks([])\n",
        "plt.imshow(np.transpose(out_g.detach().cpu().squeeze(0).numpy(), (1, 2, 0)))\n",
        "\n",
        "plt.subplot(1, 2, 2)\n",
        "plt.title(\"Original Image\")\n",
        "plt.xticks([])\n",
        "plt.yticks([])\n",
        "plt.imshow(np.transpose(real_img.numpy(), (1, 2, 0)))\n",
        "plt.show()"
      ],
      "execution_count": 28,
      "outputs": [
        {
          "output_type": "stream",
          "text": [
            "Clipping input data to the valid range for imshow with RGB data ([0..1] for floats or [0..255] for integers).\n"
          ],
          "name": "stderr"
        },
        {
          "output_type": "display_data",
          "data": {
            "image/png": "[encoded data removed]",
            "text/plain": [
              "<Figure size 576x576 with 2 Axes>"
            ]
          },
          "metadata": {
            "tags": []
          }
        }
      ]
    }
  ]
}